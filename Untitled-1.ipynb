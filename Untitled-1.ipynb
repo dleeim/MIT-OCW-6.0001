{
 "cells": [
  {
   "attachments": {},
   "cell_type": "markdown",
   "metadata": {},
   "source": [
    "# 6.0001 Problem Sheet 0"
   ]
  },
  {
   "cell_type": "code",
   "execution_count": 1,
   "metadata": {},
   "outputs": [
    {
     "name": "stdout",
     "output_type": "stream",
     "text": [
      "x**y = 8\n",
      "log(x) = 1\n"
     ]
    }
   ],
   "source": [
    "# Write a program that does the following in order:\n",
    "# 1. Asks the user to enter a number “x” \n",
    "# 2. Asks the user to enter a number “y”\n",
    "# 3. Prints out number “x”, raised to the power “y”. \n",
    "# 4. Prints out the log (base 2) of “x”.\n",
    "\n",
    "import numpy \n",
    "\n",
    "x = int(input(\"Enter number x: \"))\n",
    "y = int(input(\"Enter number y: \"))\n",
    "\n",
    "xpowery = x**y\n",
    "logx = int(numpy.log2(x))\n",
    "print(\"x**y = \" + str(xpowery))\n",
    "print(\"log(x) = \" + str(logx))"
   ]
  },
  {
   "cell_type": "markdown",
   "metadata": {},
   "source": []
  }
 ],
 "metadata": {
  "kernelspec": {
   "display_name": "Python 3",
   "language": "python",
   "name": "python3"
  },
  "language_info": {
   "codemirror_mode": {
    "name": "ipython",
    "version": 3
   },
   "file_extension": ".py",
   "mimetype": "text/x-python",
   "name": "python",
   "nbconvert_exporter": "python",
   "pygments_lexer": "ipython3",
   "version": "3.11.1"
  },
  "orig_nbformat": 4,
  "vscode": {
   "interpreter": {
    "hash": "aee8b7b246df8f9039afb4144a1f6fd8d2ca17a180786b69acc140d282b71a49"
   }
  }
 },
 "nbformat": 4,
 "nbformat_minor": 2
}
