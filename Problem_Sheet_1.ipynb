{
 "cells": [
  {
   "attachments": {},
   "cell_type": "markdown",
   "metadata": {},
   "source": [
    "# Problem Sheet 1"
   ]
  },
  {
   "attachments": {},
   "cell_type": "markdown",
   "metadata": {},
   "source": [
    "## Part A: House Hunting"
   ]
  },
  {
   "attachments": {},
   "cell_type": "markdown",
   "metadata": {},
   "source": [
    "In Part A, we are going to determine how long it will take you to save enough money to make the down payment of your dream house given the following assumptions:\n",
    "\n",
    "1. total_cost is the cost for your dream home\n",
    "2. portion_down_payment = 0.25 is the portion of the cost needed for a down payment \n",
    "3. current_saving is the amount that you have saved; start with $0\n",
    "4. r = 0.04 is annual return of your current saving \n",
    "5. annual_salary is your annual_salary\n",
    "6. protion_saved is the portion of your salary saved for the down payment\n",
    "\n",
    "At the end of each month, your savings will be increased by: \n",
    "1. the return on your investment\n",
    "2. percentage of your monthly salary\n",
    "\n",
    "Write a program to calculate how many months it will take you to save up enough money for a down payment. Your program should ask the user to enter the following variables: \n",
    "1. The starting annual salary (annual_salary)\n",
    "2. The portion of salary to be saved (portion_saved)\n",
    "3. The cost of your dream home (total_cost)"
   ]
  },
  {
   "cell_type": "code",
   "execution_count": 72,
   "metadata": {},
   "outputs": [
    {
     "name": "stdout",
     "output_type": "stream",
     "text": [
      "Test Case 1\n",
      ">>>\n",
      "Enter your annual salary: 120000\n",
      "Enter the percent of your salary to save, as a decimal: 0.1\n",
      "Enter the cost of your dream home: 1000000\n",
      "Number of months: 183\n",
      ">>>\n",
      "Test Case 2\n",
      ">>>\n",
      "Enter your annual salary: 80000\n",
      "Enter the percent of your salary to save, as a decimal: 0.15\n",
      "Enter the cost of your dream home: 500000\n",
      "Number of months: 105\n",
      ">>>\n"
     ]
    }
   ],
   "source": [
    "for n in range(2):    \n",
    "    #variables\n",
    "    portion_down_payment = 0.25\n",
    "    r = 0.04\n",
    "    current_saving = 0\n",
    "    month = 0\n",
    "    print(\"Test Case \" + str(n+1))\n",
    "    print(\">>>\")\n",
    "    \n",
    "    #input variables\n",
    "    annual_salary = float(input(\"Enter your starting annual salary: \"))\n",
    "    portion_saved = float(input(\"Enter the percent of your salary to save, as a decimal: \"))\n",
    "    total_cost = float(input(\"Enter the cost of your dream home: \"))\n",
    "\n",
    "    print(\"Enter your annual salary: \" + str(int(annual_salary)))\n",
    "    print(\"Enter the percent of your salary to save, as a decimal: \" + str((portion_saved)))\n",
    "    print(\"Enter the cost of your dream home: \" + str(int(total_cost)))\n",
    "\n",
    "    #calculation\n",
    "    while int(current_saving) < int(total_cost*portion_down_payment):\n",
    "        current_saving += current_saving*r/12 + annual_salary*portion_saved/12\n",
    "        month += 1\n",
    "    print(\"Number of months: \" + str(month))\n",
    "    print(\">>>\")\n"
   ]
  },
  {
   "attachments": {},
   "cell_type": "markdown",
   "metadata": {},
   "source": [
    "# Part B: Saving, with a raise"
   ]
  },
  {
   "attachments": {},
   "cell_type": "markdown",
   "metadata": {},
   "source": [
    "We are going to build on your solution to Part A by factoring in a raise every six months.\n",
    "\n",
    "Copy your solution to Part A. Modify your program to include the following:\n",
    "1. semi_annual_raise​: variable for user input of a semi-annual salary raise \n",
    "2. After the 6t​h​ month, increase your salary by that percentage. Do the same after the 12t​h month, the 18​th​ month, and so on.\n",
    "\n",
    "Have the user enter the following variables:\n",
    "1. The starting annual salary (annual_salary)\n",
    "2. The portion of salary to be saved (portion_saved)\n",
    "3. The cost of your dream home (total_cost)\n",
    "4. The semi-annual salary raise (semi_annual_raise)"
   ]
  },
  {
   "cell_type": "code",
   "execution_count": 74,
   "metadata": {},
   "outputs": [
    {
     "name": "stdout",
     "output_type": "stream",
     "text": [
      "Test Case 2\n",
      "Enter your annual salary: 120000\n",
      "Enter the percent of your salary to save, as a decimal: 0.05\n",
      "Enter the cost of your dream home: 500000\n",
      "Enter the semi-annual raise, as a decimal: 0.03\n",
      "Number of months: 142\n",
      "Test Case 2\n",
      "Enter your annual salary: 80000\n",
      "Enter the percent of your salary to save, as a decimal: 0.1\n",
      "Enter the cost of your dream home: 800000\n",
      "Enter the semi-annual raise, as a decimal: 0.03\n",
      "Number of months: 159\n",
      "Test Case 2\n",
      "Enter your annual salary: 75000\n",
      "Enter the percent of your salary to save, as a decimal: 0.05\n",
      "Enter the cost of your dream home: 1500000\n",
      "Enter the semi-annual raise, as a decimal: 0.05\n",
      "Number of months: 261\n"
     ]
    }
   ],
   "source": [
    "for n in range(3):    \n",
    "    #variables\n",
    "    portion_down_payment = 0.25\n",
    "    r = 0.04\n",
    "    current_saving = 0\n",
    "    month = 0\n",
    "    n = 1\n",
    "    print(\"Test Case \" + str(n+1))\n",
    "    \n",
    "    #input variables\n",
    "    annual_salary = float(input(\"Enter your starting annual salary: \"))\n",
    "    portion_saved = float(input(\"Enter the percent of your salary to save, as a decimal: \"))\n",
    "    total_cost = float(input(\"Enter the cost of your dream home: \"))\n",
    "    semi_annual_raise = float(input(\"Enter the semi-annual raise, as a decimal: \"))\n",
    "\n",
    "    print(\"Enter your annual salary: \" + str(int(annual_salary)))\n",
    "    print(\"Enter the percent of your salary to save, as a decimal: \" + str((portion_saved)))\n",
    "    print(\"Enter the cost of your dream home: \" + str(int(total_cost)))\n",
    "    print(\"Enter the semi-annual raise, as a decimal: \" + str(semi_annual_raise))\n",
    "\n",
    "    #calculations\n",
    "    while int(current_saving) < int(total_cost*portion_down_payment):\n",
    "        if month % 6 == 0 and month != 0:\n",
    "            annual_salary += annual_salary*semi_annual_raise\n",
    "        current_saving += current_saving*r/12 + annual_salary*portion_saved/12\n",
    "        month += 1\n",
    "    print(\"Number of months: \" + str(month))"
   ]
  },
  {
   "attachments": {},
   "cell_type": "markdown",
   "metadata": {},
   "source": [
    "# Part C Finding the right amount to save away"
   ]
  },
  {
   "attachments": {},
   "cell_type": "markdown",
   "metadata": {},
   "source": [
    "Suppose you want to set a particular goal, e.g. to be able to afford the down payment in three years. Thus, you are now going to try to find the best rate of savings (portion_saved)\n",
    "\n",
    "Assume\n",
    "1. Your semi­annual raise is .07 (7%)\n",
    "2. Your investments have an annual return of 0.04 (4%)\n",
    "3. The down payment is 0.25 (25%) of the cost of the house\n",
    "4. The cost of the house that you are saving for is $1M.\n",
    "\n",
    "Method:\n",
    "1. You should use ​bisection search​ to help you do this efficiently. \n",
    "2. You should keep track of the number of steps it takes your bisections search to finish.\n",
    "\n",
    "Accuracy:\n",
    "1. We want your savings to be within $100 of the required down payment.\n",
    "2. we are going to limit ourselves to two decimals of accuracy for finding portion_saved (ie for 0.0704, do not worry about difference between 0.0739 and 0.07041)"
   ]
  },
  {
   "cell_type": "code",
   "execution_count": 76,
   "metadata": {},
   "outputs": [
    {
     "name": "stdout",
     "output_type": "stream",
     "text": [
      "Test Case 1\n",
      ">>>\n",
      "Enter the starting salary: 150000.0\n",
      "Best savings rate: 0.4255\n",
      "Steps in bisection search: 12\n",
      ">>>\n",
      "Test Case 2\n",
      ">>>\n",
      "Enter the starting salary: 300000.0\n",
      "Best savings rate: 0.2118\n",
      "Steps in bisection search: 9\n",
      ">>>\n",
      "Test Case 3\n",
      ">>>\n",
      "Enter the starting salary: 10000.0\n",
      "It is not possible to pay the down payment in three years.\n"
     ]
    }
   ],
   "source": [
    "for n in range(3):    \n",
    "    # variables\n",
    "    portion_down_payment = 0.25\n",
    "    r = 0.04\n",
    "    semi_annual_raise = 0.07\n",
    "    total_cost = 1000000.0\n",
    "    epsilon = 100\n",
    "    portion_saved = 0.5000\n",
    "    num_guesses = 0\n",
    "    current_saving = 0.0 \n",
    "    annual_salary = 0.0\n",
    "    high = 1\n",
    "    low = 0\n",
    "    print(\"Test Case \" + str(n+1))\n",
    "    print(\">>>\")\n",
    "    \n",
    "    # input variable\n",
    "    annual_salary_initial = float(input(\"What is your starting annual salary? \"))\n",
    "\n",
    "    # Test if starting salary is too low to save downtown payment for 36 months \n",
    "    # Test by setting portion_saved = 1\n",
    "    # If too low, stop the loop\n",
    "    current_saving = 0.0 \n",
    "    month = 0\n",
    "    annual_salary = annual_salary_initial \n",
    "\n",
    "    for month in range(37):\n",
    "        if month % 6 == 0 and month != 0:\n",
    "            annual_salary += annual_salary*semi_annual_raise\n",
    "        current_saving += current_saving*r/12 + annual_salary/12\n",
    "\n",
    "    if current_saving < total_cost*portion_down_payment:\n",
    "        print(\"Enter the starting salary: \" + str(annual_salary_initial))\n",
    "        print(\"It is not possible to pay the down payment in three years.\")\n",
    "        break\n",
    "\n",
    "    #Use Bisection Method to find portion_saved that saves money within $100 of required down payment\n",
    "    while abs(current_saving - total_cost*portion_down_payment) >= epsilon: \n",
    "        \n",
    "        # initialize the variables for 'for loop' again\n",
    "        current_saving = 0.0 \n",
    "        month = 0\n",
    "        annual_salary = annual_salary_initial \n",
    "\n",
    "        # Find current_saving with guessed portion_saved\n",
    "        for month in range(37):\n",
    "            if month % 6 == 0 and month != 0:\n",
    "                annual_salary += annual_salary*semi_annual_raise\n",
    "            current_saving += current_saving*r/12 + annual_salary*portion_saved/12\n",
    "\n",
    "        # perform a bisection\n",
    "        if current_saving < total_cost*portion_down_payment:\n",
    "            low = portion_saved\n",
    "        else:\n",
    "            high = portion_saved\n",
    "        portion_saved = round((high+low)/2.0,4)\n",
    "\n",
    "        num_guesses +=1\n",
    "        \n",
    "    # Print Results\n",
    "    print(\"Enter the starting salary: \" + str(annual_salary_initial))\n",
    "    print(\"Best savings rate: \" + str(portion_saved))\n",
    "    print(\"Steps in bisection search: \" + str(num_guesses))\n",
    "    print(\">>>\")"
   ]
  },
  {
   "cell_type": "code",
   "execution_count": null,
   "metadata": {},
   "outputs": [],
   "source": []
  }
 ],
 "metadata": {
  "kernelspec": {
   "display_name": "Python 3",
   "language": "python",
   "name": "python3"
  },
  "language_info": {
   "codemirror_mode": {
    "name": "ipython",
    "version": 3
   },
   "file_extension": ".py",
   "mimetype": "text/x-python",
   "name": "python",
   "nbconvert_exporter": "python",
   "pygments_lexer": "ipython3",
   "version": "3.11.1"
  },
  "orig_nbformat": 4,
  "vscode": {
   "interpreter": {
    "hash": "aee8b7b246df8f9039afb4144a1f6fd8d2ca17a180786b69acc140d282b71a49"
   }
  }
 },
 "nbformat": 4,
 "nbformat_minor": 2
}
